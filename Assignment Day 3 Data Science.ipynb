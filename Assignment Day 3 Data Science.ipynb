{
 "cells": [
  {
   "cell_type": "code",
   "execution_count": 2,
   "metadata": {},
   "outputs": [],
   "source": [
    "import numpy as np"
   ]
  },
  {
   "cell_type": "markdown",
   "metadata": {},
   "source": [
    "# Question 1"
   ]
  },
  {
   "cell_type": "code",
   "execution_count": 3,
   "metadata": {},
   "outputs": [
    {
     "name": "stdout",
     "output_type": "stream",
     "text": [
      "[ 2  5  8 11 14 17 20 23 26 29 32 35 38 41 44 47]\n"
     ]
    }
   ],
   "source": [
    "# Creating the array using arange\n",
    "\n",
    "arr = np.arange(2,50,3)\n",
    "print(arr)"
   ]
  },
  {
   "cell_type": "markdown",
   "metadata": {},
   "source": [
    "# Question 2"
   ]
  },
  {
   "cell_type": "code",
   "execution_count": 5,
   "metadata": {},
   "outputs": [
    {
     "name": "stdout",
     "output_type": "stream",
     "text": [
      "Enter the elements for lst1: 5\n",
      "Enter the elements for lst1: 7\n",
      "Enter the elements for lst1: 9\n",
      "Enter the elements for lst1: 2\n",
      "Enter the elements for lst1: 3\n",
      "Enter the elements for lst2: 6\n",
      "Enter the elements for lst2: 0\n",
      "Enter the elements for lst2: 1\n",
      "Enter the elements for lst2: 8\n",
      "Enter the elements for lst2: 4\n",
      "\n",
      "value of concatenated arr:  [5 7 9 2 3 6 0 1 8 4]\n",
      "\n",
      "Sorted array of arr:  [0 1 2 3 4 5 6 7 8 9]\n"
     ]
    }
   ],
   "source": [
    "# Creating 2 empty lists\n",
    "\n",
    "lst1 = [] \n",
    "lst2 = []\n",
    "\n",
    "\n",
    "# Getting 5 inputs for the list 1\n",
    "\n",
    "for i in range(5):\n",
    "    x = int(input(\"Enter the elements for lst1: \"))\n",
    "    lst1.append(x)\n",
    "\n",
    "    \n",
    "# Getting 5 inputs for the list 2\n",
    "\n",
    "for i in range(5):\n",
    "    x = int(input(\"Enter the elements for lst2: \"))\n",
    "    lst2.append(x)\n",
    "\n",
    "\n",
    "# Converting lists into a arrays\n",
    "\n",
    "arr1 = np.array(lst1)\n",
    "arr2 = np.array(lst2)\n",
    "\n",
    "\n",
    "# Concatenating two Arrays (Joining two arrays)\n",
    "\n",
    "arr = np.concatenate((arr1, arr2))\n",
    "print(\"\\nvalue of concatenated arr: \",arr)\n",
    "\n",
    "\n",
    "# Sorting the array\n",
    "\n",
    "arr = np.sort(arr)\n",
    "print(\"\\nSorted array of arr: \",arr)"
   ]
  },
  {
   "cell_type": "markdown",
   "metadata": {},
   "source": [
    "# Question 3"
   ]
  },
  {
   "cell_type": "code",
   "execution_count": 3,
   "metadata": {},
   "outputs": [
    {
     "name": "stdout",
     "output_type": "stream",
     "text": [
      "Number of dimensions in array:  2\n",
      "Size of Array:  2\n"
     ]
    }
   ],
   "source": [
    "arr = np.array([[1,2,3], [4,5,6]])\n",
    "\n",
    "\n",
    "# Finding the dimensions of the Array\n",
    "\n",
    "print(\"Number of dimensions in array: \", arr.ndim)\n",
    "\n",
    "# Finding the size of the Array\n",
    "\n",
    "print(\"Size of Array: \", arr.ndim)"
   ]
  },
  {
   "cell_type": "markdown",
   "metadata": {},
   "source": [
    "# Questions 4"
   ]
  },
  {
   "cell_type": "markdown",
   "metadata": {},
   "source": [
    "# np.newaxis:"
   ]
  },
  {
   "cell_type": "code",
   "execution_count": 56,
   "metadata": {},
   "outputs": [
    {
     "name": "stdout",
     "output_type": "stream",
     "text": [
      "Shape of Array:  (6,)\n",
      "Shape of Array: [1 2 3 4 5 6]\n",
      "\n",
      "Shape of 2d array for row (1, 6)\n",
      "2d Array for rows:  [[1 2 3 4 5 6]]\n",
      "\n",
      "Shape of 2d array for coloumn (6, 1)\n",
      "2d Array for coloumns:  [[1]\n",
      " [2]\n",
      " [3]\n",
      " [4]\n",
      " [5]\n",
      " [6]]\n"
     ]
    }
   ],
   "source": [
    "# Creating an array\n",
    "\n",
    "arr = np.array([1,2,3,4,5,6])\n",
    "print(\"Shape of Array: \", arr.shape)\n",
    "print(\"Shape of Array:\",arr)\n",
    "\n",
    "\n",
    "# Converting using np.newaxis for rows\n",
    "\n",
    "arr_row = arr[np.newaxis, :]\n",
    "print(\"\\nShape of 2d array for row\", arr_row.shape)\n",
    "print(\"2d Array for rows: \", arr_row)\n",
    "\n",
    "\n",
    "# Converting using np.newaxis for coloumns\n",
    "\n",
    "arr_col = arr[:, np.newaxis]\n",
    "print(\"\\nShape of 2d array for coloumn\", arr_col.shape)\n",
    "print(\"2d Array for coloumns: \\n arr_col)\n",
    "\n"
   ]
  },
  {
   "cell_type": "markdown",
   "metadata": {},
   "source": [
    "# np.expand_dims:"
   ]
  },
  {
   "cell_type": "code",
   "execution_count": 57,
   "metadata": {},
   "outputs": [
    {
     "name": "stdout",
     "output_type": "stream",
     "text": [
      "Shape of Array:  (6,)\n",
      "Array [1 2 3 4 5 6]\n",
      "\n",
      "Shape of 2d array for row (1, 6)\n",
      "2d Array for rows:  [[1 2 3 4 5 6]]\n",
      "\n",
      "Shape of 2d array for coloumn :  (6, 1)\n",
      "2d Array for coloumns:  \n",
      " [[1]\n",
      " [2]\n",
      " [3]\n",
      " [4]\n",
      " [5]\n",
      " [6]]\n"
     ]
    }
   ],
   "source": [
    "# Creating an array\n",
    "\n",
    "arr = np.array([1,2,3,4,5,6])\n",
    "print(\"Shape of Array: \", arr.shape)\n",
    "print(\"Array\", arr)\n",
    "\n",
    "\n",
    "# Converting using np.expand_dims for rows\n",
    "\n",
    "arr_row = np.expand_dims(arr,axis=0)\n",
    "print(\"\\nShape of 2d array for row\", arr_row.shape)\n",
    "print(\"2d Array for rows: \", arr_row)\n",
    "\n",
    "\n",
    "# Converting using np.expand_dims for coloumns\n",
    "\n",
    "arr_col = np.expand_dims(arr,axis=1)\n",
    "print(\"\\nShape of 2d array for coloumn : \", arr_col.shape)\n",
    "print(\"2d Array for coloumns:  \\n\", arr_col)\n"
   ]
  },
  {
   "cell_type": "markdown",
   "metadata": {},
   "source": [
    "# Questions 5"
   ]
  },
  {
   "cell_type": "code",
   "execution_count": 87,
   "metadata": {},
   "outputs": [
    {
     "name": "stdout",
     "output_type": "stream",
     "text": [
      "Vertical stack: \n",
      " [[ 1  2  3  4  5]\n",
      " [ 6  7  8  9 10]]\n",
      "\n",
      "Horizontal Stack:  [ 1  2  3  4  5  6  7  8  9 10]\n"
     ]
    }
   ],
   "source": [
    "arr_1 = np.array([1,2,3,4,5])\n",
    "arr_2 = np.array([6,7,8,9,10])\n",
    "\n",
    "\n",
    "# Vertical stack\n",
    "\n",
    "print(\"Vertical stack: \\n\",np.vstack((arr_1, arr_2)))\n",
    "\n",
    "# Horizontal Stack\n",
    "\n",
    "print(\"\\nHorizontal Stack: \",np.hstack((arr_1, arr_2)))"
   ]
  },
  {
   "cell_type": "markdown",
   "metadata": {},
   "source": [
    "# Question 6"
   ]
  },
  {
   "cell_type": "code",
   "execution_count": 86,
   "metadata": {},
   "outputs": [
    {
     "name": "stdout",
     "output_type": "stream",
     "text": [
      "[[ 1  1]\n",
      " [ 2  2]\n",
      " [ 3  2]\n",
      " [ 4  1]\n",
      " [ 5  3]\n",
      " [ 6  1]\n",
      " [ 7  1]\n",
      " [ 8  1]\n",
      " [ 9  2]\n",
      " [15  1]]\n"
     ]
    }
   ],
   "source": [
    "# Creating an array\n",
    "\n",
    "arr = np.array([3,5,15,1,2,5,3,7,9,8,9,6,5,4,2,])\n",
    "\n",
    "\n",
    "# Getting the unique numbers and counts(getting the frequency of the unique numbers) \n",
    "\n",
    "Unique_n_counts = np.unique(arr, return_counts= True)\n",
    "arr = np.asarray((Unique_n_counts)).T\n",
    "\n",
    "print(arr)"
   ]
  }
 ],
 "metadata": {
  "kernelspec": {
   "display_name": "Python 3",
   "language": "python",
   "name": "python3"
  },
  "language_info": {
   "codemirror_mode": {
    "name": "ipython",
    "version": 3
   },
   "file_extension": ".py",
   "mimetype": "text/x-python",
   "name": "python",
   "nbconvert_exporter": "python",
   "pygments_lexer": "ipython3",
   "version": "3.8.5"
  }
 },
 "nbformat": 4,
 "nbformat_minor": 4
}
